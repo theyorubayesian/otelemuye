{
 "cells": [
  {
   "cell_type": "markdown",
   "metadata": {},
   "source": [
    "<a target=\"_blank\" href=\"https://colab.research.google.com/github/theyorubayesian/otelemuye/blob/master/notebooks/example.ipynb\">\n",
    "  <img src=\"https://colab.research.google.com/assets/colab-badge.svg\" alt=\"Open In Colab\"/>\n",
    "</a>"
   ]
  },
  {
   "cell_type": "code",
   "execution_count": 1,
   "metadata": {},
   "outputs": [],
   "source": [
    "# Install otelemuye from GitHub if this notebook is run on Google Colab\n",
    "! [ -z $COLAB_GPU ] || pip install git+https://github.com/theyorubayesian/otelemuye.git"
   ]
  },
  {
   "cell_type": "code",
   "execution_count": 1,
   "metadata": {},
   "outputs": [],
   "source": [
    "from itertools import chain\n",
    "from pathlib import PurePosixPath\n",
    "from typing import List\n",
    "from typing import Optional\n",
    "from urllib.parse import urlparse\n",
    "from urllib.parse import urlunparse\n",
    "\n",
    "from bs4 import BeautifulSoup\n",
    "from scrapy.http.response import Response\n",
    "\n",
    "from otelemuye import SitemapSpider\n",
    "from otelemuye import Spider\n",
    "from otelemuye import CrawlerProcess"
   ]
  },
  {
   "attachments": {},
   "cell_type": "markdown",
   "metadata": {},
   "source": [
    "## Websites that provide a sitemap"
   ]
  },
  {
   "cell_type": "code",
   "execution_count": 2,
   "metadata": {},
   "outputs": [],
   "source": [
    "class JamhuriMediaSpider(SitemapSpider):\n",
    "    name = \"jamhuri_media_spider\"\n",
    "    sitemap_urls = [\n",
    "        \"https://www.jamhurimedia.co.tz/post-sitemap.xml\",\n",
    "        \"https://www.jamhurimedia.co.tz/post-sitemap2.xml\",\n",
    "        \"https://www.jamhurimedia.co.tz/post-sitemap3.xml\",\n",
    "        \"https://www.jamhurimedia.co.tz/post-sitemap4.xml\",\n",
    "        \"https://www.jamhurimedia.co.tz/post-sitemap5.xml\",\n",
    "        \"https://www.jamhurimedia.co.tz/post-sitemap6.xml\",\n",
    "        \"https://www.jamhurimedia.co.tz/post-sitemap7.xml\",\n",
    "        \"https://www.jamhurimedia.co.tz/post-sitemap8.xml\",\n",
    "        \"https://www.jamhurimedia.co.tz/post-sitemap9.xml\",\n",
    "        \"https://www.jamhurimedia.co.tz/post-sitemap10.xml\",\n",
    "        \"https://www.jamhurimedia.co.tz/post-sitemap11.xml\"\n",
    "    ]\n",
    "\n",
    "    custom_settings = {\n",
    "        \"LOG_FILE\": \"../logs/jamhuri_media_crawl.log\",\n",
    "        \"ROBOTSTXT_OBEY\": False,\n",
    "        \"JOBDIR\": \"../crawls/jamhurimedia\",\n",
    "        \"CONCURRENT_REQUESTS\": 2,\n",
    "        \"OUTPUT_FILE\": \"../data/jamhurimedia_swahili.jsonl\",\n",
    "        \"ITEM_PIPELINES\": {\n",
    "            \"otelemuye.pipelines.JsonWriterPipeline\": 300\n",
    "        }\n",
    "    }\n",
    "    \n",
    "    def _get_article_data(self, soup: BeautifulSoup):\n",
    "        headline = soup.find(\"h1\", attrs={\"class\": \"post-title single-post-title entry-title\"}).text\n",
    "        category = None\n",
    "\n",
    "        content_soup = soup.find(\"div\", attrs={\"class\": \"inner-post-entry entry-content\"})\n",
    "        content_elements = content_soup.find_all(\"p\")\n",
    "        content = self._clean_string(\" \".join([elem.text for elem in content_elements]))\n",
    "        \n",
    "        return self.article_data(headline, content, category)"
   ]
  },
  {
   "cell_type": "code",
   "execution_count": null,
   "metadata": {},
   "outputs": [],
   "source": [
    "process = CrawlerProcess()\n",
    "process.crawl(JamhuriMediaSpider)\n",
    "process.start()"
   ]
  },
  {
   "cell_type": "markdown",
   "metadata": {},
   "source": [
    "## Websites that do not provide a sitemap"
   ]
  },
  {
   "cell_type": "code",
   "execution_count": null,
   "metadata": {},
   "outputs": [],
   "source": [
    "class TukoSpider(Spider):\n",
    "    name = \"tuko_spider\"\n",
    "    content_tags = [\"p\", \"strong\"]\n",
    "    start_urls = [\n",
    "        \"https://kiswahili.tuko.co.ke/watu/\",\n",
    "        \"https://kiswahili.tuko.co.ke/kenya/\",\n",
    "        \"https://kiswahili.tuko.co.ke/burudani/\",\n",
    "        \"https://kiswahili.tuko.co.ke/siasa/\",\n",
    "        \"https://kiswahili.tuko.co.ke/michezo/\",\n",
    "        \"https://kiswahili.tuko.co.ke/biashara/\",\n",
    "        \"https://kiswahili.tuko.co.ke/mahusiano/\",\n",
    "        \"https://kiswahili.tuko.co.ke/elimu/\",\n",
    "        \"https://kiswahili.tuko.co.ke/habari-za-ulimwengu/\",\n",
    "        \"https://kiswahili.tuko.co.ke/familia/\"\n",
    "    ]\n",
    "    custom_settings = {\n",
    "        \"LOG_FILE\": \"../logs/tuko_crawl.log\",\n",
    "        \"ROBOTSTXT_OBEY\": True,\n",
    "        \"JOBDIR\": \"../crawls/tuko\",\n",
    "        \"CONCURRENT_REQUESTS\": 2,\n",
    "        \"OUTPUT_FILE\": \"../data/tuko_swahili.jsonl\",\n",
    "        \"ITEM_PIPELINES\": {\n",
    "            \"otelemuye.pipelines.JsonWriterPipeline\": 300\n",
    "        }\n",
    "    }\n",
    "    \n",
    "    def _get_article_data(self, soup: BeautifulSoup):\n",
    "        headline = soup.find(\"h1\", attrs={\"class\": \"c-main-headline\"}).text\n",
    "        category = None\n",
    "\n",
    "        content_soup = soup.find(\"div\", attrs={\"class\": \"post__content\"})\n",
    "        content_elements = chain(*[content_soup.find_all(tag) for tag in self.content_tags])\n",
    "        content = self._clean_string(\" \".join([elem.text for elem in content_elements]))\n",
    "        \n",
    "        return self.article_data(headline, content, category)\n",
    "\n",
    "    def _find_next_page(self, soup: BeautifulSoup, response: Response) -> Optional[str]:\n",
    "        first_article = soup.find(\"article\", attrs={\"class\": \"c-article-card-horizontal l-article-loadable-list\"})\n",
    "        \n",
    "        if first_article:\n",
    "            curr_url = urlparse(response.url)\n",
    "            try:\n",
    "                base, category, idx = PurePosixPath(curr_url.path).parts\n",
    "                idx = int(idx) + 1 \n",
    "            except ValueError:\n",
    "                base, category = PurePosixPath(curr_url.path).parts\n",
    "                idx = 2\n",
    "            \n",
    "            next_url = urlunparse(\n",
    "                (\n",
    "                    curr_url.scheme, \n",
    "                    curr_url.hostname, \n",
    "                    PurePosixPath(base, category, str(idx)).as_posix(), \n",
    "                    None, None, None\n",
    "                ))\n",
    "            return next_url\n",
    "\n",
    "    def _get_article_urls(self, soup: BeautifulSoup) -> List[str]:\n",
    "        all_urls = [urlparse(a.get(\"href\")) for a in soup.find_all(\"a\")]\n",
    "        article_urls = [\n",
    "            x.geturl() \n",
    "            for x in all_urls \n",
    "            if x.hostname == \"kiswahili.tuko.co.ke\"\n",
    "            and len(x.path.split(\"-\")) > 3\n",
    "        ]\n",
    "        return article_urls"
   ]
  },
  {
   "cell_type": "code",
   "execution_count": null,
   "metadata": {},
   "outputs": [],
   "source": [
    "process = CrawlerProcess()\n",
    "process.crawl(TukoSpider)\n",
    "process.start()"
   ]
  }
 ],
 "metadata": {
  "kernelspec": {
   "display_name": "Python 3",
   "language": "python",
   "name": "python3"
  },
  "language_info": {
   "codemirror_mode": {
    "name": "ipython",
    "version": 3
   },
   "file_extension": ".py",
   "mimetype": "text/x-python",
   "name": "python",
   "nbconvert_exporter": "python",
   "pygments_lexer": "ipython3",
   "version": "3.9.16"
  },
  "orig_nbformat": 4
 },
 "nbformat": 4,
 "nbformat_minor": 2
}
