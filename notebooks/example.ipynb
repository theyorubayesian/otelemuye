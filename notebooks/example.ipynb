{
 "cells": [
  {
   "cell_type": "code",
   "execution_count": 1,
   "metadata": {},
   "outputs": [],
   "source": [
    "from bs4 import BeautifulSoup\n",
    "\n",
    "from otelemuye import CustomSitemapSpider\n",
    "from otelemuye import CrawlerProcess"
   ]
  },
  {
   "attachments": {},
   "cell_type": "markdown",
   "metadata": {},
   "source": [
    "## Websites that provide a sitemap"
   ]
  },
  {
   "cell_type": "code",
   "execution_count": 2,
   "metadata": {},
   "outputs": [],
   "source": [
    "class JamhuriMediaSpider(CustomSitemapSpider):\n",
    "    name = \"jamhuri_media_spider\"\n",
    "    sitemap_urls = [\n",
    "        \"https://www.jamhurimedia.co.tz/post-sitemap.xml\",\n",
    "        \"https://www.jamhurimedia.co.tz/post-sitemap2.xml\",\n",
    "        \"https://www.jamhurimedia.co.tz/post-sitemap3.xml\",\n",
    "        \"https://www.jamhurimedia.co.tz/post-sitemap4.xml\",\n",
    "        \"https://www.jamhurimedia.co.tz/post-sitemap5.xml\",\n",
    "        \"https://www.jamhurimedia.co.tz/post-sitemap6.xml\",\n",
    "        \"https://www.jamhurimedia.co.tz/post-sitemap7.xml\",\n",
    "        \"https://www.jamhurimedia.co.tz/post-sitemap8.xml\",\n",
    "        \"https://www.jamhurimedia.co.tz/post-sitemap9.xml\",\n",
    "        \"https://www.jamhurimedia.co.tz/post-sitemap10.xml\",\n",
    "        \"https://www.jamhurimedia.co.tz/post-sitemap11.xml\"\n",
    "    ]\n",
    "\n",
    "    custom_settings = {\n",
    "        \"LOG_FILE\": \"../logs/jamhuri_media_crawl.log\",\n",
    "        \"ROBOTSTXT_OBEY\": False,\n",
    "        \"JOBDIR\": \"../crawls/jamhurimedia\",\n",
    "        \"CONCURRENT_REQUESTS\": 2,\n",
    "        \"OUTPUT_FILE\": \"../data/jamhurimedia_swahili.jsonl\",\n",
    "        \"ITEM_PIPELINES\": {\n",
    "            \"otelemuye.pipelines.JsonWriterPipeline\": 300\n",
    "        }\n",
    "    }\n",
    "    \n",
    "    def _get_article_data(self, soup: BeautifulSoup):\n",
    "        headline = soup.find(\"h1\", attrs={\"class\": \"post-title single-post-title entry-title\"}).text\n",
    "        category = None\n",
    "\n",
    "        content_soup = soup.find(\"div\", attrs={\"class\": \"inner-post-entry entry-content\"})\n",
    "        content_elements = content_soup.find_all(\"p\")\n",
    "        content = self._clean_string(\" \".join([elem.text for elem in content_elements]))\n",
    "        \n",
    "        return self.article_data(headline, content, category)"
   ]
  },
  {
   "cell_type": "code",
   "execution_count": null,
   "metadata": {},
   "outputs": [],
   "source": [
    "process = CrawlerProcess()\n",
    "process.crawl(JamhuriMediaSpider)\n",
    "process.start()"
   ]
  }
 ],
 "metadata": {
  "kernelspec": {
   "display_name": "Python 3",
   "language": "python",
   "name": "python3"
  },
  "language_info": {
   "codemirror_mode": {
    "name": "ipython",
    "version": 3
   },
   "file_extension": ".py",
   "mimetype": "text/x-python",
   "name": "python",
   "nbconvert_exporter": "python",
   "pygments_lexer": "ipython3",
   "version": "3.9.16"
  },
  "orig_nbformat": 4
 },
 "nbformat": 4,
 "nbformat_minor": 2
}
